{
 "cells": [
  {
   "cell_type": "code",
   "execution_count": 1,
   "metadata": {},
   "outputs": [],
   "source": [
    "import cv2\n",
    "import numpy as np"
   ]
  },
  {
   "cell_type": "code",
   "execution_count": 2,
   "metadata": {
    "scrolled": true
   },
   "outputs": [
    {
     "data": {
      "text/plain": [
       "(251, 251, 3)"
      ]
     },
     "execution_count": 2,
     "metadata": {},
     "output_type": "execute_result"
    }
   ],
   "source": [
    "# Read Image\n",
    "im = cv2.imread(\"C:\\\\Users\\\\Mateusz\\\\Desktop\\\\AGH\\\\Pracownia\\\\Moje proby\\\\ironman.jpg\")\n",
    "size = im.shape\n",
    "size\n",
    "    \n"
   ]
  },
  {
   "cell_type": "code",
   "execution_count": null,
   "metadata": {},
   "outputs": [],
   "source": []
  },
  {
   "cell_type": "code",
   "execution_count": 3,
   "metadata": {},
   "outputs": [],
   "source": [
    "#2D image points. If you change the image, you need to change vector\n",
    "k = 0\n",
    "\n",
    "image_points = np.array([\n",
    "                            (102, 62),      # head\n",
    "                            (120, 91),      # chest\n",
    "                            (200-k, 86),      # Left hand\n",
    "                            (73+k, 160),      # Right hand\n",
    "                            (192-k/2, 179-0),      # Left foot\n",
    "                            (162+k/2, 197-0)       # Right foot\n",
    "                        ], dtype=\"double\")\n",
    " \n",
    "# 3D model points.\n",
    "\n",
    "model_points = np.array([\n",
    "                            (14 ,73 , 0),         # head\n",
    "                            (14 ,41 , 10-0),        # chest\n",
    "                            (88 ,5  , 0.0),     # Left hand\n",
    "                            (-63 ,5  , 0.0),      # Right hand    \n",
    "                            (33,-75, 5),    # Left foot\n",
    "                            (-4,-75, 5)      # Right foot\n",
    " \n",
    "                        ])\n"
   ]
  },
  {
   "cell_type": "code",
   "execution_count": 4,
   "metadata": {},
   "outputs": [
    {
     "name": "stdout",
     "output_type": "stream",
     "text": [
      "Camera Matrix :\n",
      " [[251.    0.  125.5]\n",
      " [  0.  251.  125.5]\n",
      " [  0.    0.    1. ]]\n",
      "Rotation Vector:\n",
      " [[ 2.95713692]\n",
      " [-0.79708482]\n",
      " [-0.02927242]]\n",
      "Translation Vector:\n",
      " [[  1.644032  ]\n",
      " [  5.8418483 ]\n",
      " [259.80520372]]\n",
      "[[[125.5 125.5]]]\n"
     ]
    },
    {
     "data": {
      "text/plain": [
       "-1"
      ]
     },
     "execution_count": 4,
     "metadata": {},
     "output_type": "execute_result"
    }
   ],
   "source": [
    "# Camera internals\n",
    " \n",
    "focal_length = size[1]\n",
    "center = (size[1]/2, size[0]/2)\n",
    "camera_matrix = np.array(\n",
    "                         [[focal_length, 0, center[0]],\n",
    "                         [0, focal_length, center[1]],\n",
    "                         [0, 0, 1]], dtype = \"double\"\n",
    "                         )\n",
    " \n",
    "print (\"Camera Matrix :\\n {0}\".format(camera_matrix))\n",
    " \n",
    "dist_coeffs = np.zeros((4,1)) # Assuming no lens distortion\n",
    "(success, rotation_vector, translation_vector) = cv2.solvePnP(model_points, image_points, camera_matrix, dist_coeffs, flags=1)\n",
    "\n",
    "print (\"Rotation Vector:\\n {0}\".format(rotation_vector))\n",
    "print (\"Translation Vector:\\n {0}\".format(translation_vector))\n",
    " \n",
    "# Project a 3D point (0, 0, 1000.0) onto the image plane.\n",
    "# We use this to draw a line sticking out of the nose\n",
    "translation_vector1= translation_vector\n",
    "rotation_vector[0] = 0\n",
    "rotation_vector[1] = 0\n",
    "rotation_vector[2] = 0\n",
    "\n",
    "translation_vector1[0] = 0\n",
    "translation_vector1[1] = 0\n",
    "translation_vector1[2] = 0\n",
    "\n",
    "\n",
    "(nose_end_point2D, jacobian) = cv2.projectPoints(np.array([(0.0, 0.0,100.0)]), rotation_vector, translation_vector1, camera_matrix, dist_coeffs)\n",
    "print(nose_end_point2D)\n",
    "for p in image_points:\n",
    "    cv2.circle(im, (int(p[0]), int(p[1])), 3, (0,0,255), -1)\n",
    "\n",
    "p1 = ( int(image_points[0][0]), int(image_points[0][1]))\n",
    "p2 = ( int(nose_end_point2D[0][0][0])+int(image_points[0][0]), int(nose_end_point2D[0][0][1])+int(image_points[0][1]))\n",
    " \n",
    "cv2.line(im, p1, p2, (255,0,0), 2)\n",
    " \n",
    "# Display image\n",
    "cv2.imshow(\"Output\", im)\n",
    "cv2.waitKey(0)"
   ]
  },
  {
   "cell_type": "code",
   "execution_count": null,
   "metadata": {},
   "outputs": [],
   "source": []
  },
  {
   "cell_type": "code",
   "execution_count": null,
   "metadata": {},
   "outputs": [],
   "source": []
  }
 ],
 "metadata": {
  "kernelspec": {
   "display_name": "Python 3 (ipykernel)",
   "language": "python",
   "name": "python3"
  },
  "language_info": {
   "codemirror_mode": {
    "name": "ipython",
    "version": 3
   },
   "file_extension": ".py",
   "mimetype": "text/x-python",
   "name": "python",
   "nbconvert_exporter": "python",
   "pygments_lexer": "ipython3",
   "version": "3.10.4"
  }
 },
 "nbformat": 4,
 "nbformat_minor": 4
}
