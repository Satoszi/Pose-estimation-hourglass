{
 "cells": [
  {
   "cell_type": "code",
   "execution_count": 8,
   "id": "1d5aec75",
   "metadata": {},
   "outputs": [],
   "source": [
    "def pisz(text, text2, text3):\n",
    "    print(text, text2, text3)"
   ]
  },
  {
   "cell_type": "code",
   "execution_count": 9,
   "id": "470df5a4",
   "metadata": {},
   "outputs": [],
   "source": [
    "a = pisz"
   ]
  },
  {
   "cell_type": "code",
   "execution_count": 15,
   "id": "604b110f",
   "metadata": {},
   "outputs": [],
   "source": [
    "def wrapper(func, args): \n",
    "    func(*args)"
   ]
  },
  {
   "cell_type": "code",
   "execution_count": 18,
   "id": "07b53653",
   "metadata": {},
   "outputs": [
    {
     "name": "stdout",
     "output_type": "stream",
     "text": [
      "a b c\n"
     ]
    }
   ],
   "source": [
    "wrapper(a, [\"a\",\"b\",\"c\"])"
   ]
  },
  {
   "cell_type": "code",
   "execution_count": 13,
   "id": "a0ef78c4",
   "metadata": {},
   "outputs": [
    {
     "ename": "TypeError",
     "evalue": "pisz() missing 2 required positional arguments: 'text2' and 'text3'",
     "output_type": "error",
     "traceback": [
      "\u001b[1;31m---------------------------------------------------------------------------\u001b[0m",
      "\u001b[1;31mTypeError\u001b[0m                                 Traceback (most recent call last)",
      "Input \u001b[1;32mIn [13]\u001b[0m, in \u001b[0;36m<cell line: 2>\u001b[1;34m()\u001b[0m\n\u001b[0;32m      1\u001b[0m b \u001b[38;5;241m=\u001b[39m (\u001b[38;5;124m\"\u001b[39m\u001b[38;5;124masd\u001b[39m\u001b[38;5;124m\"\u001b[39m, \u001b[38;5;124m\"\u001b[39m\u001b[38;5;124m1\u001b[39m\u001b[38;5;124m\"\u001b[39m, \u001b[38;5;241m2\u001b[39m)\n\u001b[1;32m----> 2\u001b[0m \u001b[43ma\u001b[49m\u001b[43m(\u001b[49m\u001b[43mb\u001b[49m\u001b[43m)\u001b[49m\n",
      "\u001b[1;31mTypeError\u001b[0m: pisz() missing 2 required positional arguments: 'text2' and 'text3'"
     ]
    }
   ],
   "source": [
    "b = (\"asd\", \"1\", 2)\n",
    "a(b)"
   ]
  },
  {
   "cell_type": "code",
   "execution_count": null,
   "id": "05306bdd",
   "metadata": {},
   "outputs": [],
   "source": []
  }
 ],
 "metadata": {
  "kernelspec": {
   "display_name": "tensorflow_gpu_2022_07",
   "language": "python",
   "name": "tensorflow_gpu_2022_07"
  },
  "language_info": {
   "codemirror_mode": {
    "name": "ipython",
    "version": 3
   },
   "file_extension": ".py",
   "mimetype": "text/x-python",
   "name": "python",
   "nbconvert_exporter": "python",
   "pygments_lexer": "ipython3",
   "version": "3.10.4"
  }
 },
 "nbformat": 4,
 "nbformat_minor": 5
}
