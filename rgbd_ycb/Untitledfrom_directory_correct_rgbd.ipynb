{
 "cells": [
  {
   "cell_type": "code",
   "execution_count": 1,
   "id": "8eb02c60",
   "metadata": {},
   "outputs": [],
   "source": [
    "import cv2\n",
    "import numpy as np\n",
    "import os\n",
    "import scipy.io as io\n",
    "import matplotlib.pyplot as plt\n",
    "import pickle\n",
    "\n",
    "# Tensorflow\n",
    "import tensorflow as tf\n",
    "from tensorflow import keras\n",
    "from tensorflow.keras.layers import *\n",
    "from tensorflow.keras import layers\n",
    "\n",
    "import random\n",
    "from tqdm import tqdm\n",
    "from scipy.spatial.transform import Rotation"
   ]
  },
  {
   "cell_type": "code",
   "execution_count": 83,
   "id": "d9cb7925",
   "metadata": {},
   "outputs": [],
   "source": [
    "# %load_ext autoreload\n",
    "# %autoreload 2\n",
    "# %reload_ext autoreload"
   ]
  },
  {
   "cell_type": "code",
   "execution_count": 2,
   "id": "bf81daa6",
   "metadata": {},
   "outputs": [],
   "source": [
    "IMG_SIZE=96"
   ]
  },
  {
   "cell_type": "code",
   "execution_count": 3,
   "id": "728a1b43",
   "metadata": {},
   "outputs": [],
   "source": [
    "def channel_shift(img):\n",
    "    value1 = random.random()*1.+0.6\n",
    "    value2 = random.random()*0.5-0.25\n",
    "    img = img*value1 + value2\n",
    "    #img[:,:,:][img[:,:,:]>1]  = 1\n",
    "    #img[:,:,:][img[:,:,:]<0]  = 0\n",
    "    if random.random() < 0:\n",
    "        img = np.flip(img,2)\n",
    "    return img\n",
    "\n",
    "def rotation(img, mask, angle):\n",
    "    angle = int(random.uniform(-angle, angle))\n",
    "    h, w = img.shape[:2]\n",
    "    M = cv2.getRotationMatrix2D((int(w/2), int(h/2)), angle, 1)\n",
    "    img = cv2.warpAffine(img, M, (w, h))\n",
    "    mask = cv2.warpAffine(mask, M, (w, h))\n",
    "    return img, mask\n",
    "\n",
    "def flip(img,mask):\n",
    "    if random.random() < 0.5:\n",
    "        img = np.flip(img,1)\n",
    "        mask = np.flip(mask,1)\n",
    "    return img, mask\n",
    "\n",
    "def random_rectangles(img):\n",
    "    size = img.shape[0]\n",
    "    for i in range(6):\n",
    "        x1 = int(random.random()*size-5)\n",
    "        x2 = int(random.random()*(size*0.8-x1))\n",
    "        y1 = int(random.random()*size-5)\n",
    "        y2 = int(random.random()*(size*0.8-y1))\n",
    "        if random.random() < 0.2:\n",
    "            r = random.random()\n",
    "            g = random.random()\n",
    "            b = random.random()\n",
    "            img[y1:y2+y1,x1:x2+x1] = [r,g,b]\n",
    "        else:\n",
    "            img[y1:y2+y1,x1:x2+x1] *= random.random()+0.5 + random.random()-0.3\n",
    "    return img"
   ]
  },
  {
   "cell_type": "code",
   "execution_count": null,
   "id": "07026a6a",
   "metadata": {},
   "outputs": [],
   "source": []
  },
  {
   "cell_type": "code",
   "execution_count": 4,
   "id": "df609ceb",
   "metadata": {},
   "outputs": [],
   "source": [
    "K1 = np.array([[1.066778e+03, 0.000000e+00, 3.129869e+02],\n",
    "               [0.000000e+00, 1.067487e+03, 2.413109e+02],\n",
    "               [0.000000e+00, 0.000000e+00, 1.000000e+00]])\n",
    "\n",
    "K2 = np.array([[1077.836, 0, 323.7872],\n",
    "               [0, 1078.189, 279.6921],\n",
    "               [0,        0,        1]])\n",
    "\n",
    "verts = [\n",
    "        [-0.01,0,0],\n",
    "        [0.08,0.05,0.0],\n",
    "        [-0.1,0.045,0.0],\n",
    "        [-0.03,-0.11,0.023],\n",
    "        [-0.03,-0.11,-0.023],\n",
    "        [0.055,-0.11,0.023],\n",
    "        [0.055,-0.11,-0.023]\n",
    "        ]\n",
    "verts  = np.array(verts)\n",
    "color = (0,255,255)\n",
    "\n",
    "def get_x_y(verts, idx):\n",
    "    t = poses[idx][4:,None]\n",
    "    quat = -np.array([*poses[idx][1:4], poses[idx][0]])\n",
    "    R = np.array(Rotation.from_quat(quat).as_matrix())\n",
    "\n",
    "    K_ = K1 if idx <= 23820 else K2\n",
    "\n",
    "    verts_2d = np.matmul(K_, np.matmul(R, verts.T) + t).T\n",
    "    verts_2d = verts_2d[:,:2] / verts_2d[:,2,None]\n",
    "    return verts_2d"
   ]
  },
  {
   "cell_type": "code",
   "execution_count": 5,
   "id": "4ed18fdf",
   "metadata": {},
   "outputs": [],
   "source": [
    "ycb_path = \"C:\\\\Users\\\\mati\\\\Desktop\\\\Moje\\\\dyplomowa\\\\datasets\\\\ycb_video_sicrod\"\n",
    "power_screwdriver_name = \"power_screwdriver\"\n",
    "poses_file_name = \"035_power_drill.txt\"\n",
    "poses_file_path = os.path.join(ycb_path,poses_file_name)\n",
    "frames_path = os.path.join(ycb_path,power_screwdriver_name)\n",
    "\n",
    "poses = np.loadtxt(poses_file_path)"
   ]
  },
  {
   "cell_type": "code",
   "execution_count": 6,
   "id": "c0c250d0",
   "metadata": {},
   "outputs": [
    {
     "data": {
      "text/plain": [
       "['0006',\n",
       " '0009',\n",
       " '0010',\n",
       " '0011',\n",
       " '0012',\n",
       " '0018',\n",
       " '0024',\n",
       " '0030',\n",
       " '0037',\n",
       " '0038']"
      ]
     },
     "execution_count": 6,
     "metadata": {},
     "output_type": "execute_result"
    }
   ],
   "source": [
    "os.listdir(frames_path)"
   ]
  },
  {
   "cell_type": "code",
   "execution_count": 7,
   "id": "cd9457a6",
   "metadata": {},
   "outputs": [],
   "source": [
    "train_types = ['0006', '0009', '0010', '0012', '0018', '0024', '0030', '0038']\n",
    "val_types = ['0011', '0037']\n",
    "\n",
    "dir_types = os.listdir(frames_path)\n",
    "train_color_frame_paths = []\n",
    "train_depth_frame_paths = []\n",
    "val_color_frame_paths = []\n",
    "val_depth_frame_paths = []\n",
    "train_idx_pose = {}\n",
    "val_idx_pose = {}\n",
    "idx = 0\n",
    "train_idx = 0\n",
    "val_idx = 0\n",
    "for dir_type in dir_types:\n",
    "    dir_1 = os.path.join(frames_path,dir_type)\n",
    "    for file_name in os.listdir(dir_1):\n",
    "        if \"color\" in file_name and dir_type in train_types:\n",
    "            train_color_frame_paths.append(os.path.join(dir_1,file_name))\n",
    "            train_idx_pose[train_idx] = idx\n",
    "            train_idx += 1\n",
    "            idx += 1\n",
    "        if \"color\" in file_name and dir_type in val_types:\n",
    "            val_color_frame_paths.append(os.path.join(dir_1,file_name))\n",
    "            val_idx_pose[val_idx] = idx\n",
    "            val_idx += 1\n",
    "            idx += 1\n",
    "        if \"depth\" in file_name and dir_type in train_types:\n",
    "            train_depth_frame_paths.append(os.path.join(dir_1,file_name))\n",
    "        if \"depth\" in file_name and dir_type in val_types:\n",
    "            val_depth_frame_paths.append(os.path.join(dir_1,file_name))"
   ]
  },
  {
   "cell_type": "code",
   "execution_count": 8,
   "id": "efc89863",
   "metadata": {},
   "outputs": [
    {
     "data": {
      "text/plain": [
       "3262"
      ]
     },
     "execution_count": 8,
     "metadata": {},
     "output_type": "execute_result"
    }
   ],
   "source": [
    "len(val_depth_frame_paths)"
   ]
  },
  {
   "cell_type": "code",
   "execution_count": 17,
   "id": "4f291a70",
   "metadata": {},
   "outputs": [
    {
     "name": "stderr",
     "output_type": "stream",
     "text": [
      "13627it [01:48, 125.33it/s]\n"
     ]
    }
   ],
   "source": [
    "train_color_frames = []\n",
    "train_depth_frames = []\n",
    "for color_path, depth_path in tqdm(zip(train_color_frame_paths, train_depth_frame_paths)):\n",
    "        color_frame = cv2.imread(color_path)\n",
    "        #depth_frame = cv2.imread(depth_path)\n",
    "        \n",
    "        color_frame = cv2.resize(color_frame,(IMG_SIZE,IMG_SIZE))/255.\n",
    "        #depth_frame = cv2.resize(depth_frame,(IMG_SIZE,IMG_SIZE))/255.\n",
    "        \n",
    "        train_color_frames.append(color_frame)\n",
    "        #train_depth_frames.append(depth_frame)"
   ]
  },
  {
   "cell_type": "code",
   "execution_count": null,
   "id": "56701a96",
   "metadata": {},
   "outputs": [],
   "source": [
    "plt.imshow(train_color_frames[100])"
   ]
  },
  {
   "cell_type": "code",
   "execution_count": 18,
   "id": "6efb8b69",
   "metadata": {},
   "outputs": [
    {
     "name": "stderr",
     "output_type": "stream",
     "text": [
      "3262it [00:24, 135.73it/s]\n"
     ]
    }
   ],
   "source": [
    "val_color_frames = []\n",
    "val_depth_frames = []\n",
    "for color_path, depth_path in tqdm(zip(val_color_frame_paths, val_depth_frame_paths)):\n",
    "        color_frame = cv2.imread(color_path)\n",
    "        #depth_frame = cv2.imread(depth_path)\n",
    "        \n",
    "        color_frame = cv2.resize(color_frame,(IMG_SIZE,IMG_SIZE))/255.\n",
    "        #depth_frame = cv2.resize(depth_frame,(IMG_SIZE,IMG_SIZE))/255.\n",
    "        \n",
    "        val_color_frames.append(color_frame)\n",
    "        #val_depth_frames.append(depth_frame)"
   ]
  },
  {
   "cell_type": "code",
   "execution_count": 19,
   "id": "61ca56be",
   "metadata": {},
   "outputs": [],
   "source": [
    "mask_cp = np.zeros((7,IMG_SIZE,IMG_SIZE))"
   ]
  },
  {
   "cell_type": "code",
   "execution_count": 20,
   "id": "2ef79bd6",
   "metadata": {},
   "outputs": [],
   "source": [
    "def get_mask(points, original_frame_shape):\n",
    "    \n",
    "    SIZE_X = original_frame_shape[1]\n",
    "    SIZE_Y = original_frame_shape[0]\n",
    "    joint_masks = []\n",
    "    joint_idx = 0\n",
    "    joints_number = len(points)\n",
    "    mask = np.zeros((7,IMG_SIZE,IMG_SIZE))\n",
    "    for i, point in enumerate(points):\n",
    "        \n",
    "        \n",
    "        x = point[0]\n",
    "        y = point[1]\n",
    "\n",
    "        x = int(x/(SIZE_X/IMG_SIZE))\n",
    "        y = int(y/(SIZE_Y/IMG_SIZE))\n",
    "        color = (255,255,255)\n",
    "        mask[i] = cv2.circle(mask[i],(x,y),7,color, -1)\n",
    "        joint_masks.append(mask[i])\n",
    "        \n",
    "    #joint_masks = np.array(joint_masks)\n",
    "    joint_masks = np.swapaxes(joint_masks, 0,-1)\n",
    "    joint_masks = np.swapaxes(joint_masks, 0,1)\n",
    "            \n",
    "    return joint_masks/255."
   ]
  },
  {
   "cell_type": "code",
   "execution_count": 21,
   "id": "2f6e6e99",
   "metadata": {},
   "outputs": [],
   "source": [
    "def power_driver_generator(color_frames,depth_frames,idx_pose,augmentation = False):\n",
    "    while True:\n",
    "        idx = int(random.random()*len(color_frames))\n",
    "\n",
    "        points = get_x_y(verts, idx_pose[idx])\n",
    "        \n",
    "        mask = get_mask(points, original_frame_shape = [480,640])\n",
    "        color_frame = color_frames[idx].copy()\n",
    "        #depth_frame = depth_frames[idx].copy()\n",
    "        \n",
    "        if augmentation:\n",
    "            color_frame = channel_shift(color_frame)\n",
    "            #color_frame = random_rectangles(color_frame)\n",
    "            #color_frame, mask = rotation(color_frame, mask, 5)\n",
    "            #color_frame = random_rectangles(color_frame)\n",
    "            color_frame, mask = flip(color_frame, mask)\n",
    "        yield color_frame, mask"
   ]
  },
  {
   "cell_type": "code",
   "execution_count": 22,
   "id": "6788ab07",
   "metadata": {},
   "outputs": [],
   "source": [
    "train_generator = power_driver_generator(train_color_frames, train_depth_frames, train_idx_pose,augmentation=True)\n",
    "val_generator = power_driver_generator(val_color_frames, val_depth_frames, val_idx_pose)"
   ]
  },
  {
   "cell_type": "code",
   "execution_count": 23,
   "id": "b4120594",
   "metadata": {},
   "outputs": [],
   "source": [
    "for i in range(100):\n",
    "    x,y = next(val_generator)"
   ]
  },
  {
   "cell_type": "code",
   "execution_count": 24,
   "id": "ef77ae23",
   "metadata": {},
   "outputs": [
    {
     "name": "stderr",
     "output_type": "stream",
     "text": [
      "Clipping input data to the valid range for imshow with RGB data ([0..1] for floats or [0..255] for integers).\n"
     ]
    },
    {
     "data": {
      "text/plain": [
       "<matplotlib.image.AxesImage at 0x29e8ad4e0b0>"
      ]
     },
     "execution_count": 24,
     "metadata": {},
     "output_type": "execute_result"
    },
    {
     "data": {
      "image/png": "[encoded data removed]",
      "text/plain": [
       "<Figure size 432x288 with 1 Axes>"
      ]
     },
     "metadata": {
      "needs_background": "light"
     },
     "output_type": "display_data"
    }
   ],
   "source": [
    "x,y = next(train_generator)\n",
    "plt.imshow(x)"
   ]
  },
  {
   "cell_type": "code",
   "execution_count": 25,
   "id": "5603961e",
   "metadata": {},
   "outputs": [
    {
     "data": {
      "text/plain": [
       "<matplotlib.image.AxesImage at 0x29e8ad87520>"
      ]
     },
     "execution_count": 25,
     "metadata": {},
     "output_type": "execute_result"
    },
    {
     "data": {
      "image/png": "[encoded data removed]",
      "text/plain": [
       "<Figure size 432x288 with 1 Axes>"
      ]
     },
     "metadata": {
      "needs_background": "light"
     },
     "output_type": "display_data"
    }
   ],
   "source": [
    "plt.imshow(y[:,:,2])"
   ]
  },
  {
   "cell_type": "markdown",
   "id": "14ad4802",
   "metadata": {},
   "source": [
    "## Utils"
   ]
  },
  {
   "cell_type": "code",
   "execution_count": 26,
   "id": "b5f3ece4",
   "metadata": {},
   "outputs": [],
   "source": [
    "def get_blob_center(heatmap):\n",
    "    \n",
    "    heatmap_size = heatmap.shape[0]\n",
    "    heatmap = np.abs(heatmap)\n",
    "    heatmap = heatmap*heatmap*heatmap\n",
    "    \n",
    "    dx = np.array(np.arange(0,heatmap_size))\n",
    "    dx = np.expand_dims(dx,0)\n",
    "    dx = np.repeat(dx,heatmap_size, axis=0)\n",
    "    dy = np.rot90(dx, k=3)\n",
    "\n",
    "    heatmap_dx = dx*heatmap\n",
    "    heatmap_dy = dy*heatmap\n",
    "    \n",
    "    sumed_heatmap = np.sum(heatmap)\n",
    "    x = np.sum(heatmap_dx)/sumed_heatmap\n",
    "    y = np.sum(heatmap_dy)/sumed_heatmap\n",
    "    return np.array([x, y])\n",
    "\n",
    "def isNaN(num):\n",
    "    return num != num\n",
    "\n",
    "def calc_blob_distances(mask_gt, mask_pred):\n",
    "    distances = []\n",
    "    for i in range(mask_gt.shape[-1]):\n",
    "        heatmap_gt, heatmap_pred = mask_gt[:,:,i],mask_pred[:,:,i]\n",
    "        p_gt = get_blob_center(heatmap_gt)\n",
    "        p_pred = get_blob_center(heatmap_pred)\n",
    "        distance = np.linalg.norm(p_gt-p_pred)\n",
    "        if isNaN(distance):\n",
    "            distance = None\n",
    "        distances.append(distance)\n",
    "    cleaned_distances = [x for x in distances if x != None]\n",
    "    return cleaned_distances\n",
    "        \n",
    "def calc_oks_metric(model_to_eval, val_generator, probes):\n",
    "    \n",
    "    x = []\n",
    "    y_gt = []\n",
    "    for probe in range(probes):\n",
    "        x1, y_gt1 = next(val_generator)\n",
    "        x.append(x1)\n",
    "        y_gt.append(y_gt1)\n",
    "    all_frames_distances = []\n",
    "    y_pred = model_to_eval.predict(np.array(x),verbose = 0)\n",
    "    for probe in range(probes):\n",
    "        per_frame_distances = calc_blob_distances(y_gt[probe],y_pred[probe])\n",
    "        per_frame_distances_avg = np.average(per_frame_distances)\n",
    "        #print(per_frame_distances_avg)\n",
    "        all_frames_distances.append(per_frame_distances_avg)\n",
    "    average_dist = np.average(all_frames_distances)\n",
    "    return average_dist"
   ]
  },
  {
   "cell_type": "code",
   "execution_count": 27,
   "id": "8782d0ff",
   "metadata": {},
   "outputs": [],
   "source": [
    "history_oks = []"
   ]
  },
  {
   "cell_type": "code",
   "execution_count": 28,
   "id": "81d4e984",
   "metadata": {},
   "outputs": [],
   "source": [
    "class my_callback(tf.keras.callbacks.Callback):\n",
    "    def on_epoch_end(self, batch, logs=None):\n",
    "        train_oks = calc_oks_metric(model_2, train_generator, 500)\n",
    "        val_oks = calc_oks_metric(model_2, val_generator, 500)\n",
    "        history_oks.append((train_oks,val_oks))\n",
    "        print()\n",
    "        print(\"train_oks:\", train_oks, \"val_oks:\",val_oks)\n",
    "        return None"
   ]
  },
  {
   "cell_type": "markdown",
   "id": "6590f4a0",
   "metadata": {},
   "source": [
    "## Model"
   ]
  },
  {
   "cell_type": "code",
   "execution_count": 29,
   "id": "80835906",
   "metadata": {},
   "outputs": [],
   "source": [
    "w_init = tf.keras.initializers.RandomNormal(mean=0.0, stddev=0.02)"
   ]
  },
  {
   "cell_type": "code",
   "execution_count": 30,
   "id": "31ef39bc",
   "metadata": {},
   "outputs": [],
   "source": [
    "def unet_conv(inputs, filters, dropout=0.1,kernel_size=3, padding=\"same\", strides=2, activation=True):\n",
    "    x = Conv2D(\n",
    "        filters=filters,\n",
    "        kernel_size=kernel_size,\n",
    "        kernel_initializer=w_init,\n",
    "        padding=padding,\n",
    "        strides=strides,\n",
    "    )(inputs)\n",
    "    if activation:\n",
    "        x = BatchNormalization()(x)\n",
    "        x = ReLU()(x)\n",
    "        x = Dropout(dropout)(x)\n",
    "    return x"
   ]
  },
  {
   "cell_type": "code",
   "execution_count": 31,
   "id": "d13b9a2c",
   "metadata": {},
   "outputs": [],
   "source": [
    "def unet_up_conv(inputs, filters, dropout=0.1,kernel_size=3, padding=\"same\", strides=2, activation=True):\n",
    "    x = Conv2DTranspose(\n",
    "        filters=filters,\n",
    "        kernel_size=kernel_size,\n",
    "        kernel_initializer=w_init,\n",
    "        padding=padding,\n",
    "        strides=strides,\n",
    "        use_bias=True\n",
    "    )(inputs)\n",
    "    if activation:\n",
    "        x = BatchNormalization()(x)\n",
    "        x = ReLU()(x)\n",
    "        x = Dropout(dropout)(x)\n",
    "    return x"
   ]
  },
  {
   "cell_type": "code",
   "execution_count": 32,
   "id": "8aed2c6a",
   "metadata": {},
   "outputs": [],
   "source": [
    "def build_generator(img_size=32, num_channels=3):\n",
    "    \n",
    "    ch_r = 4\n",
    "    inputs = keras.Input(shape=(img_size,img_size,num_channels,))\n",
    "    x1 = unet_conv(inputs, filters = 16, strides = 1)\n",
    "    \n",
    "    x2 = unet_conv(x1, filters = 4*ch_r, strides = 2)\n",
    "    x3 = unet_conv(x2, filters = 8*ch_r, strides = 1)\n",
    "    \n",
    "    x4 = unet_conv(x3, filters = 8*ch_r, strides = 2)\n",
    "    x5 = unet_conv(x4, filters = 16*ch_r, strides = 1)\n",
    "    \n",
    "    x6 = unet_conv(x5, filters = 16*ch_r, strides = 2)\n",
    "    x7 = unet_conv(x6, filters = 32*ch_r, strides = 1)\n",
    "    \n",
    "    \n",
    "    x8 = unet_conv(x7, filters = 32*ch_r, strides = 2)\n",
    "    x9 = unet_conv(x8, filters = 64*ch_r, strides = 1)\n",
    "    \n",
    "    x10 = unet_up_conv(x9, filters = 64*ch_r, strides = 2)\n",
    "    \n",
    "    \n",
    "    x = layers.concatenate([x7, x10])\n",
    "    x11 = unet_conv(x, filters = 32*ch_r, strides = 1)\n",
    "    x12 = unet_up_conv(x11, filters = 16*ch_r, strides = 2)\n",
    "    \n",
    "    x = layers.concatenate([x5, x12])\n",
    "    x13 = unet_conv(x, filters = 16*ch_r, strides = 1)\n",
    "    x14 = unet_up_conv(x13, filters = 8*ch_r, strides = 2)\n",
    "    \n",
    "    x = layers.concatenate([x3, x14])\n",
    "    x15 = unet_conv(x, filters = 8*ch_r, strides = 1)\n",
    "    x16 = unet_up_conv(x15, filters = 4*ch_r, strides = 2)\n",
    "    \n",
    "    x = layers.concatenate([x1, x16, inputs])\n",
    "    x17 = unet_conv(x, filters = 16, strides = 1)\n",
    "    \n",
    "    x = layers.Conv2D(7, kernel_size = 3, padding=\"same\")(x17)\n",
    "    output = Activation(\"sigmoid\", name=\"head1\")(x)\n",
    "\n",
    "    # Define the model\n",
    "    model = keras.Model(inputs, outputs = [output])\n",
    "    \n",
    "    return model\n",
    "    \n",
    "    "
   ]
  },
  {
   "cell_type": "code",
   "execution_count": 33,
   "id": "45184e9e",
   "metadata": {},
   "outputs": [],
   "source": [
    "model_2 = build_generator(IMG_SIZE)"
   ]
  },
  {
   "cell_type": "code",
   "execution_count": 34,
   "id": "cd6cfe0f",
   "metadata": {},
   "outputs": [
    {
     "name": "stdout",
     "output_type": "stream",
     "text": [
      "Model: \"model\"\n",
      "__________________________________________________________________________________________________\n",
      " Layer (type)                   Output Shape         Param #     Connected to                     \n",
      "==================================================================================================\n",
      " input_1 (InputLayer)           [(None, 96, 96, 3)]  0           []                               \n",
      "                                                                                                  \n",
      " conv2d (Conv2D)                (None, 96, 96, 16)   448         ['input_1[0][0]']                \n",
      "                                                                                                  \n",
      " batch_normalization (BatchNorm  (None, 96, 96, 16)  64          ['conv2d[0][0]']                 \n",
      " alization)                                                                                       \n",
      "                                                                                                  \n",
      " re_lu (ReLU)                   (None, 96, 96, 16)   0           ['batch_normalization[0][0]']    \n",
      "                                                                                                  \n",
      " dropout (Dropout)              (None, 96, 96, 16)   0           ['re_lu[0][0]']                  \n",
      "                                                                                                  \n",
      " conv2d_1 (Conv2D)              (None, 48, 48, 16)   2320        ['dropout[0][0]']                \n",
      "                                                                                                  \n",
      " batch_normalization_1 (BatchNo  (None, 48, 48, 16)  64          ['conv2d_1[0][0]']               \n",
      " rmalization)                                                                                     \n",
      "                                                                                                  \n",
      " re_lu_1 (ReLU)                 (None, 48, 48, 16)   0           ['batch_normalization_1[0][0]']  \n",
      "                                                                                                  \n",
      " dropout_1 (Dropout)            (None, 48, 48, 16)   0           ['re_lu_1[0][0]']                \n",
      "                                                                                                  \n",
      " conv2d_2 (Conv2D)              (None, 48, 48, 32)   4640        ['dropout_1[0][0]']              \n",
      "                                                                                                  \n",
      " batch_normalization_2 (BatchNo  (None, 48, 48, 32)  128         ['conv2d_2[0][0]']               \n",
      " rmalization)                                                                                     \n",
      "                                                                                                  \n",
      " re_lu_2 (ReLU)                 (None, 48, 48, 32)   0           ['batch_normalization_2[0][0]']  \n",
      "                                                                                                  \n",
      " dropout_2 (Dropout)            (None, 48, 48, 32)   0           ['re_lu_2[0][0]']                \n",
      "                                                                                                  \n",
      " conv2d_3 (Conv2D)              (None, 24, 24, 32)   9248        ['dropout_2[0][0]']              \n",
      "                                                                                                  \n",
      " batch_normalization_3 (BatchNo  (None, 24, 24, 32)  128         ['conv2d_3[0][0]']               \n",
      " rmalization)                                                                                     \n",
      "                                                                                                  \n",
      " re_lu_3 (ReLU)                 (None, 24, 24, 32)   0           ['batch_normalization_3[0][0]']  \n",
      "                                                                                                  \n",
      " dropout_3 (Dropout)            (None, 24, 24, 32)   0           ['re_lu_3[0][0]']                \n",
      "                                                                                                  \n",
      " conv2d_4 (Conv2D)              (None, 24, 24, 64)   18496       ['dropout_3[0][0]']              \n",
      "                                                                                                  \n",
      " batch_normalization_4 (BatchNo  (None, 24, 24, 64)  256         ['conv2d_4[0][0]']               \n",
      " rmalization)                                                                                     \n",
      "                                                                                                  \n",
      " re_lu_4 (ReLU)                 (None, 24, 24, 64)   0           ['batch_normalization_4[0][0]']  \n",
      "                                                                                                  \n",
      " dropout_4 (Dropout)            (None, 24, 24, 64)   0           ['re_lu_4[0][0]']                \n",
      "                                                                                                  \n",
      " conv2d_5 (Conv2D)              (None, 12, 12, 64)   36928       ['dropout_4[0][0]']              \n",
      "                                                                                                  \n",
      " batch_normalization_5 (BatchNo  (None, 12, 12, 64)  256         ['conv2d_5[0][0]']               \n",
      " rmalization)                                                                                     \n",
      "                                                                                                  \n",
      " re_lu_5 (ReLU)                 (None, 12, 12, 64)   0           ['batch_normalization_5[0][0]']  \n",
      "                                                                                                  \n",
      " dropout_5 (Dropout)            (None, 12, 12, 64)   0           ['re_lu_5[0][0]']                \n",
      "                                                                                                  \n",
      " conv2d_6 (Conv2D)              (None, 12, 12, 128)  73856       ['dropout_5[0][0]']              \n",
      "                                                                                                  \n",
      " batch_normalization_6 (BatchNo  (None, 12, 12, 128)  512        ['conv2d_6[0][0]']               \n",
      " rmalization)                                                                                     \n",
      "                                                                                                  \n",
      " re_lu_6 (ReLU)                 (None, 12, 12, 128)  0           ['batch_normalization_6[0][0]']  \n",
      "                                                                                                  \n",
      " dropout_6 (Dropout)            (None, 12, 12, 128)  0           ['re_lu_6[0][0]']                \n",
      "                                                                                                  \n",
      " conv2d_7 (Conv2D)              (None, 6, 6, 128)    147584      ['dropout_6[0][0]']              \n",
      "                                                                                                  \n",
      " batch_normalization_7 (BatchNo  (None, 6, 6, 128)   512         ['conv2d_7[0][0]']               \n",
      " rmalization)                                                                                     \n",
      "                                                                                                  \n",
      " re_lu_7 (ReLU)                 (None, 6, 6, 128)    0           ['batch_normalization_7[0][0]']  \n",
      "                                                                                                  \n",
      " dropout_7 (Dropout)            (None, 6, 6, 128)    0           ['re_lu_7[0][0]']                \n",
      "                                                                                                  \n",
      " conv2d_8 (Conv2D)              (None, 6, 6, 256)    295168      ['dropout_7[0][0]']              \n",
      "                                                                                                  \n",
      " batch_normalization_8 (BatchNo  (None, 6, 6, 256)   1024        ['conv2d_8[0][0]']               \n",
      " rmalization)                                                                                     \n",
      "                                                                                                  \n",
      " re_lu_8 (ReLU)                 (None, 6, 6, 256)    0           ['batch_normalization_8[0][0]']  \n"
     ]
    },
    {
     "name": "stdout",
     "output_type": "stream",
     "text": [
      "                                                                                                  \n",
      " dropout_8 (Dropout)            (None, 6, 6, 256)    0           ['re_lu_8[0][0]']                \n",
      "                                                                                                  \n",
      " conv2d_transpose (Conv2DTransp  (None, 12, 12, 256)  590080     ['dropout_8[0][0]']              \n",
      " ose)                                                                                             \n",
      "                                                                                                  \n",
      " batch_normalization_9 (BatchNo  (None, 12, 12, 256)  1024       ['conv2d_transpose[0][0]']       \n",
      " rmalization)                                                                                     \n",
      "                                                                                                  \n",
      " re_lu_9 (ReLU)                 (None, 12, 12, 256)  0           ['batch_normalization_9[0][0]']  \n",
      "                                                                                                  \n",
      " dropout_9 (Dropout)            (None, 12, 12, 256)  0           ['re_lu_9[0][0]']                \n",
      "                                                                                                  \n",
      " concatenate (Concatenate)      (None, 12, 12, 384)  0           ['dropout_6[0][0]',              \n",
      "                                                                  'dropout_9[0][0]']              \n",
      "                                                                                                  \n",
      " conv2d_9 (Conv2D)              (None, 12, 12, 128)  442496      ['concatenate[0][0]']            \n",
      "                                                                                                  \n",
      " batch_normalization_10 (BatchN  (None, 12, 12, 128)  512        ['conv2d_9[0][0]']               \n",
      " ormalization)                                                                                    \n",
      "                                                                                                  \n",
      " re_lu_10 (ReLU)                (None, 12, 12, 128)  0           ['batch_normalization_10[0][0]'] \n",
      "                                                                                                  \n",
      " dropout_10 (Dropout)           (None, 12, 12, 128)  0           ['re_lu_10[0][0]']               \n",
      "                                                                                                  \n",
      " conv2d_transpose_1 (Conv2DTran  (None, 24, 24, 64)  73792       ['dropout_10[0][0]']             \n",
      " spose)                                                                                           \n",
      "                                                                                                  \n",
      " batch_normalization_11 (BatchN  (None, 24, 24, 64)  256         ['conv2d_transpose_1[0][0]']     \n",
      " ormalization)                                                                                    \n",
      "                                                                                                  \n",
      " re_lu_11 (ReLU)                (None, 24, 24, 64)   0           ['batch_normalization_11[0][0]'] \n",
      "                                                                                                  \n",
      " dropout_11 (Dropout)           (None, 24, 24, 64)   0           ['re_lu_11[0][0]']               \n",
      "                                                                                                  \n",
      " concatenate_1 (Concatenate)    (None, 24, 24, 128)  0           ['dropout_4[0][0]',              \n",
      "                                                                  'dropout_11[0][0]']             \n",
      "                                                                                                  \n",
      " conv2d_10 (Conv2D)             (None, 24, 24, 64)   73792       ['concatenate_1[0][0]']          \n",
      "                                                                                                  \n",
      " batch_normalization_12 (BatchN  (None, 24, 24, 64)  256         ['conv2d_10[0][0]']              \n",
      " ormalization)                                                                                    \n",
      "                                                                                                  \n",
      " re_lu_12 (ReLU)                (None, 24, 24, 64)   0           ['batch_normalization_12[0][0]'] \n",
      "                                                                                                  \n",
      " dropout_12 (Dropout)           (None, 24, 24, 64)   0           ['re_lu_12[0][0]']               \n",
      "                                                                                                  \n",
      " conv2d_transpose_2 (Conv2DTran  (None, 48, 48, 32)  18464       ['dropout_12[0][0]']             \n",
      " spose)                                                                                           \n",
      "                                                                                                  \n",
      " batch_normalization_13 (BatchN  (None, 48, 48, 32)  128         ['conv2d_transpose_2[0][0]']     \n",
      " ormalization)                                                                                    \n",
      "                                                                                                  \n",
      " re_lu_13 (ReLU)                (None, 48, 48, 32)   0           ['batch_normalization_13[0][0]'] \n",
      "                                                                                                  \n",
      " dropout_13 (Dropout)           (None, 48, 48, 32)   0           ['re_lu_13[0][0]']               \n",
      "                                                                                                  \n",
      " concatenate_2 (Concatenate)    (None, 48, 48, 64)   0           ['dropout_2[0][0]',              \n",
      "                                                                  'dropout_13[0][0]']             \n",
      "                                                                                                  \n",
      " conv2d_11 (Conv2D)             (None, 48, 48, 32)   18464       ['concatenate_2[0][0]']          \n",
      "                                                                                                  \n",
      " batch_normalization_14 (BatchN  (None, 48, 48, 32)  128         ['conv2d_11[0][0]']              \n",
      " ormalization)                                                                                    \n",
      "                                                                                                  \n",
      " re_lu_14 (ReLU)                (None, 48, 48, 32)   0           ['batch_normalization_14[0][0]'] \n",
      "                                                                                                  \n",
      " dropout_14 (Dropout)           (None, 48, 48, 32)   0           ['re_lu_14[0][0]']               \n",
      "                                                                                                  \n",
      " conv2d_transpose_3 (Conv2DTran  (None, 96, 96, 16)  4624        ['dropout_14[0][0]']             \n",
      " spose)                                                                                           \n",
      "                                                                                                  \n",
      " batch_normalization_15 (BatchN  (None, 96, 96, 16)  64          ['conv2d_transpose_3[0][0]']     \n",
      " ormalization)                                                                                    \n",
      "                                                                                                  \n",
      " re_lu_15 (ReLU)                (None, 96, 96, 16)   0           ['batch_normalization_15[0][0]'] \n",
      "                                                                                                  \n",
      " dropout_15 (Dropout)           (None, 96, 96, 16)   0           ['re_lu_15[0][0]']               \n",
      "                                                                                                  \n",
      " concatenate_3 (Concatenate)    (None, 96, 96, 35)   0           ['dropout[0][0]',                \n",
      "                                                                  'dropout_15[0][0]',             \n",
      "                                                                  'input_1[0][0]']                \n",
      "                                                                                                  \n"
     ]
    },
    {
     "name": "stdout",
     "output_type": "stream",
     "text": [
      " conv2d_12 (Conv2D)             (None, 96, 96, 16)   5056        ['concatenate_3[0][0]']          \n",
      "                                                                                                  \n",
      " batch_normalization_16 (BatchN  (None, 96, 96, 16)  64          ['conv2d_12[0][0]']              \n",
      " ormalization)                                                                                    \n",
      "                                                                                                  \n",
      " re_lu_16 (ReLU)                (None, 96, 96, 16)   0           ['batch_normalization_16[0][0]'] \n",
      "                                                                                                  \n",
      " dropout_16 (Dropout)           (None, 96, 96, 16)   0           ['re_lu_16[0][0]']               \n",
      "                                                                                                  \n",
      " conv2d_13 (Conv2D)             (None, 96, 96, 7)    1015        ['dropout_16[0][0]']             \n",
      "                                                                                                  \n",
      " head1 (Activation)             (None, 96, 96, 7)    0           ['conv2d_13[0][0]']              \n",
      "                                                                                                  \n",
      "==================================================================================================\n",
      "Total params: 1,821,847\n",
      "Trainable params: 1,819,159\n",
      "Non-trainable params: 2,688\n",
      "__________________________________________________________________________________________________\n"
     ]
    }
   ],
   "source": [
    "model_2.summary()"
   ]
  },
  {
   "cell_type": "code",
   "execution_count": 35,
   "id": "8ad9a74b",
   "metadata": {},
   "outputs": [],
   "source": [
    "class DataGenerator(tf.keras.utils.Sequence):\n",
    "    def __init__(self, batch_size, gen, size):\n",
    "        self.batch_size = batch_size\n",
    "        self.on_epoch_end()\n",
    "        self.gen = gen\n",
    "        self.size = size\n",
    "    def __len__(self):\n",
    "        return int(self.size/self.batch_size)\n",
    "\n",
    "    def __getitem__(self, index):\n",
    "        #index = self.index[index * self.batch_size:(index + 1) * self.batch_size]\n",
    "        #batch = [self.indices[k] for k in index]\n",
    "        \n",
    "        x_train = []\n",
    "        y_train = []\n",
    "        for i in range(self.batch_size):\n",
    "            x, y = next(self.gen)\n",
    "            x_train.append(x)\n",
    "            y_train.append(y)\n",
    "            \n",
    "        x_train = np.array(x_train)\n",
    "        y_train = np.array(y_train)\n",
    "        \n",
    "        return x_train, y_train\n",
    "\n",
    "    def on_epoch_end(self):\n",
    "        pass\n"
   ]
  },
  {
   "cell_type": "code",
   "execution_count": 36,
   "id": "1f9fd660",
   "metadata": {},
   "outputs": [],
   "source": [
    "tf_train_generator = DataGenerator(batch_size=16, gen=train_generator, size = 640*30/5)\n",
    "tf_val_generator = DataGenerator(batch_size=16, gen=val_generator, size = 640*30/20)"
   ]
  },
  {
   "cell_type": "markdown",
   "id": "99a210d1",
   "metadata": {},
   "source": [
    "## Training"
   ]
  },
  {
   "cell_type": "code",
   "execution_count": 37,
   "id": "e88e5748",
   "metadata": {},
   "outputs": [],
   "source": [
    "opt = tf.keras.optimizers.Adam(learning_rate=0.001)\n",
    "model_2.compile(optimizer=opt, loss = \"mse\")"
   ]
  },
  {
   "cell_type": "code",
   "execution_count": 38,
   "id": "9317634a",
   "metadata": {},
   "outputs": [
    {
     "name": "stdout",
     "output_type": "stream",
     "text": [
      "Epoch 1/100\n",
      "240/240 [==============================] - 29s 59ms/step - loss: 0.0379 - val_loss: 0.0155\n",
      "Epoch 2/100\n",
      "240/240 [==============================] - 14s 58ms/step - loss: 0.0148 - val_loss: 0.0136\n",
      "Epoch 3/100\n",
      "240/240 [==============================] - 14s 58ms/step - loss: 0.0135 - val_loss: 0.0132\n",
      "Epoch 4/100\n",
      "240/240 [==============================] - 14s 57ms/step - loss: 0.0101 - val_loss: 0.0139\n",
      "Epoch 5/100\n",
      "240/240 [==============================] - 14s 57ms/step - loss: 0.0069 - val_loss: 0.0133\n",
      "Epoch 6/100\n",
      "240/240 [==============================] - 14s 57ms/step - loss: 0.0046 - val_loss: 0.0132\n",
      "Epoch 7/100\n",
      "240/240 [==============================] - 14s 57ms/step - loss: 0.0037 - val_loss: 0.0132\n",
      "Epoch 8/100\n",
      "240/240 [==============================] - 14s 57ms/step - loss: 0.0033 - val_loss: 0.0135\n",
      "Epoch 9/100\n",
      "240/240 [==============================] - 14s 58ms/step - loss: 0.0030 - val_loss: 0.0130\n",
      "Epoch 10/100\n",
      "240/240 [==============================] - 14s 58ms/step - loss: 0.0028 - val_loss: 0.0132\n",
      "Epoch 11/100\n",
      "240/240 [==============================] - 14s 58ms/step - loss: 0.0027 - val_loss: 0.0137\n",
      "Epoch 12/100\n",
      "240/240 [==============================] - 14s 58ms/step - loss: 0.0026 - val_loss: 0.0131\n",
      "Epoch 13/100\n",
      "240/240 [==============================] - 14s 57ms/step - loss: 0.0025 - val_loss: 0.0138\n",
      "Epoch 14/100\n",
      "240/240 [==============================] - 14s 57ms/step - loss: 0.0024 - val_loss: 0.0137\n",
      "Epoch 15/100\n",
      "240/240 [==============================] - 14s 58ms/step - loss: 0.0023 - val_loss: 0.0136\n",
      "Epoch 16/100\n",
      "240/240 [==============================] - 14s 57ms/step - loss: 0.0023 - val_loss: 0.0131\n",
      "Epoch 17/100\n",
      " 86/240 [=========>....................] - ETA: 7s - loss: 0.0023"
     ]
    },
    {
     "ename": "KeyboardInterrupt",
     "evalue": "",
     "output_type": "error",
     "traceback": [
      "\u001b[1;31m---------------------------------------------------------------------------\u001b[0m",
      "\u001b[1;31mKeyboardInterrupt\u001b[0m                         Traceback (most recent call last)",
      "Input \u001b[1;32mIn [38]\u001b[0m, in \u001b[0;36m<cell line: 1>\u001b[1;34m()\u001b[0m\n\u001b[1;32m----> 1\u001b[0m \u001b[43mmodel_2\u001b[49m\u001b[38;5;241;43m.\u001b[39;49m\u001b[43mfit\u001b[49m\u001b[43m(\u001b[49m\u001b[43mtf_train_generator\u001b[49m\u001b[43m,\u001b[49m\u001b[43m \u001b[49m\n\u001b[0;32m      2\u001b[0m \u001b[43m            \u001b[49m\u001b[43mvalidation_data\u001b[49m\u001b[43m \u001b[49m\u001b[38;5;241;43m=\u001b[39;49m\u001b[43m \u001b[49m\u001b[43mtf_val_generator\u001b[49m\u001b[43m,\u001b[49m\u001b[43m  \u001b[49m\n\u001b[0;32m      3\u001b[0m \u001b[43m            \u001b[49m\u001b[43mepochs\u001b[49m\u001b[43m \u001b[49m\u001b[38;5;241;43m=\u001b[39;49m\u001b[43m \u001b[49m\u001b[38;5;241;43m100\u001b[39;49m\u001b[43m,\u001b[49m\u001b[43m \u001b[49m\u001b[43mbatch_size\u001b[49m\u001b[43m \u001b[49m\u001b[38;5;241;43m=\u001b[39;49m\u001b[43m \u001b[49m\u001b[38;5;241;43m16\u001b[39;49m\u001b[43m,\u001b[49m\n\u001b[0;32m      4\u001b[0m \u001b[43m           \u001b[49m\u001b[38;5;66;43;03m#callbacks=[my_callback()]\u001b[39;49;00m\n\u001b[0;32m      5\u001b[0m \u001b[43m           \u001b[49m\u001b[43m)\u001b[49m\n",
      "File \u001b[1;32m~\\anaconda3\\envs\\tensorflow_gpu_2022_07\\lib\\site-packages\\keras\\utils\\traceback_utils.py:64\u001b[0m, in \u001b[0;36mfilter_traceback.<locals>.error_handler\u001b[1;34m(*args, **kwargs)\u001b[0m\n\u001b[0;32m     62\u001b[0m filtered_tb \u001b[38;5;241m=\u001b[39m \u001b[38;5;28;01mNone\u001b[39;00m\n\u001b[0;32m     63\u001b[0m \u001b[38;5;28;01mtry\u001b[39;00m:\n\u001b[1;32m---> 64\u001b[0m   \u001b[38;5;28;01mreturn\u001b[39;00m fn(\u001b[38;5;241m*\u001b[39margs, \u001b[38;5;241m*\u001b[39m\u001b[38;5;241m*\u001b[39mkwargs)\n\u001b[0;32m     65\u001b[0m \u001b[38;5;28;01mexcept\u001b[39;00m \u001b[38;5;167;01mException\u001b[39;00m \u001b[38;5;28;01mas\u001b[39;00m e:  \u001b[38;5;66;03m# pylint: disable=broad-except\u001b[39;00m\n\u001b[0;32m     66\u001b[0m   filtered_tb \u001b[38;5;241m=\u001b[39m _process_traceback_frames(e\u001b[38;5;241m.\u001b[39m__traceback__)\n",
      "File \u001b[1;32m~\\anaconda3\\envs\\tensorflow_gpu_2022_07\\lib\\site-packages\\keras\\engine\\training.py:1409\u001b[0m, in \u001b[0;36mModel.fit\u001b[1;34m(self, x, y, batch_size, epochs, verbose, callbacks, validation_split, validation_data, shuffle, class_weight, sample_weight, initial_epoch, steps_per_epoch, validation_steps, validation_batch_size, validation_freq, max_queue_size, workers, use_multiprocessing)\u001b[0m\n\u001b[0;32m   1402\u001b[0m \u001b[38;5;28;01mwith\u001b[39;00m tf\u001b[38;5;241m.\u001b[39mprofiler\u001b[38;5;241m.\u001b[39mexperimental\u001b[38;5;241m.\u001b[39mTrace(\n\u001b[0;32m   1403\u001b[0m     \u001b[38;5;124m'\u001b[39m\u001b[38;5;124mtrain\u001b[39m\u001b[38;5;124m'\u001b[39m,\n\u001b[0;32m   1404\u001b[0m     epoch_num\u001b[38;5;241m=\u001b[39mepoch,\n\u001b[0;32m   1405\u001b[0m     step_num\u001b[38;5;241m=\u001b[39mstep,\n\u001b[0;32m   1406\u001b[0m     batch_size\u001b[38;5;241m=\u001b[39mbatch_size,\n\u001b[0;32m   1407\u001b[0m     _r\u001b[38;5;241m=\u001b[39m\u001b[38;5;241m1\u001b[39m):\n\u001b[0;32m   1408\u001b[0m   callbacks\u001b[38;5;241m.\u001b[39mon_train_batch_begin(step)\n\u001b[1;32m-> 1409\u001b[0m   tmp_logs \u001b[38;5;241m=\u001b[39m \u001b[38;5;28;43mself\u001b[39;49m\u001b[38;5;241;43m.\u001b[39;49m\u001b[43mtrain_function\u001b[49m\u001b[43m(\u001b[49m\u001b[43miterator\u001b[49m\u001b[43m)\u001b[49m\n\u001b[0;32m   1410\u001b[0m   \u001b[38;5;28;01mif\u001b[39;00m data_handler\u001b[38;5;241m.\u001b[39mshould_sync:\n\u001b[0;32m   1411\u001b[0m     context\u001b[38;5;241m.\u001b[39masync_wait()\n",
      "File \u001b[1;32m~\\anaconda3\\envs\\tensorflow_gpu_2022_07\\lib\\site-packages\\tensorflow\\python\\util\\traceback_utils.py:150\u001b[0m, in \u001b[0;36mfilter_traceback.<locals>.error_handler\u001b[1;34m(*args, **kwargs)\u001b[0m\n\u001b[0;32m    148\u001b[0m filtered_tb \u001b[38;5;241m=\u001b[39m \u001b[38;5;28;01mNone\u001b[39;00m\n\u001b[0;32m    149\u001b[0m \u001b[38;5;28;01mtry\u001b[39;00m:\n\u001b[1;32m--> 150\u001b[0m   \u001b[38;5;28;01mreturn\u001b[39;00m fn(\u001b[38;5;241m*\u001b[39margs, \u001b[38;5;241m*\u001b[39m\u001b[38;5;241m*\u001b[39mkwargs)\n\u001b[0;32m    151\u001b[0m \u001b[38;5;28;01mexcept\u001b[39;00m \u001b[38;5;167;01mException\u001b[39;00m \u001b[38;5;28;01mas\u001b[39;00m e:\n\u001b[0;32m    152\u001b[0m   filtered_tb \u001b[38;5;241m=\u001b[39m _process_traceback_frames(e\u001b[38;5;241m.\u001b[39m__traceback__)\n",
      "File \u001b[1;32m~\\anaconda3\\envs\\tensorflow_gpu_2022_07\\lib\\site-packages\\tensorflow\\python\\eager\\def_function.py:915\u001b[0m, in \u001b[0;36mFunction.__call__\u001b[1;34m(self, *args, **kwds)\u001b[0m\n\u001b[0;32m    912\u001b[0m compiler \u001b[38;5;241m=\u001b[39m \u001b[38;5;124m\"\u001b[39m\u001b[38;5;124mxla\u001b[39m\u001b[38;5;124m\"\u001b[39m \u001b[38;5;28;01mif\u001b[39;00m \u001b[38;5;28mself\u001b[39m\u001b[38;5;241m.\u001b[39m_jit_compile \u001b[38;5;28;01melse\u001b[39;00m \u001b[38;5;124m\"\u001b[39m\u001b[38;5;124mnonXla\u001b[39m\u001b[38;5;124m\"\u001b[39m\n\u001b[0;32m    914\u001b[0m \u001b[38;5;28;01mwith\u001b[39;00m OptionalXlaContext(\u001b[38;5;28mself\u001b[39m\u001b[38;5;241m.\u001b[39m_jit_compile):\n\u001b[1;32m--> 915\u001b[0m   result \u001b[38;5;241m=\u001b[39m \u001b[38;5;28mself\u001b[39m\u001b[38;5;241m.\u001b[39m_call(\u001b[38;5;241m*\u001b[39margs, \u001b[38;5;241m*\u001b[39m\u001b[38;5;241m*\u001b[39mkwds)\n\u001b[0;32m    917\u001b[0m new_tracing_count \u001b[38;5;241m=\u001b[39m \u001b[38;5;28mself\u001b[39m\u001b[38;5;241m.\u001b[39mexperimental_get_tracing_count()\n\u001b[0;32m    918\u001b[0m without_tracing \u001b[38;5;241m=\u001b[39m (tracing_count \u001b[38;5;241m==\u001b[39m new_tracing_count)\n",
      "File \u001b[1;32m~\\anaconda3\\envs\\tensorflow_gpu_2022_07\\lib\\site-packages\\tensorflow\\python\\eager\\def_function.py:947\u001b[0m, in \u001b[0;36mFunction._call\u001b[1;34m(self, *args, **kwds)\u001b[0m\n\u001b[0;32m    944\u001b[0m   \u001b[38;5;28mself\u001b[39m\u001b[38;5;241m.\u001b[39m_lock\u001b[38;5;241m.\u001b[39mrelease()\n\u001b[0;32m    945\u001b[0m   \u001b[38;5;66;03m# In this case we have created variables on the first call, so we run the\u001b[39;00m\n\u001b[0;32m    946\u001b[0m   \u001b[38;5;66;03m# defunned version which is guaranteed to never create variables.\u001b[39;00m\n\u001b[1;32m--> 947\u001b[0m   \u001b[38;5;28;01mreturn\u001b[39;00m \u001b[38;5;28mself\u001b[39m\u001b[38;5;241m.\u001b[39m_stateless_fn(\u001b[38;5;241m*\u001b[39margs, \u001b[38;5;241m*\u001b[39m\u001b[38;5;241m*\u001b[39mkwds)  \u001b[38;5;66;03m# pylint: disable=not-callable\u001b[39;00m\n\u001b[0;32m    948\u001b[0m \u001b[38;5;28;01melif\u001b[39;00m \u001b[38;5;28mself\u001b[39m\u001b[38;5;241m.\u001b[39m_stateful_fn \u001b[38;5;129;01mis\u001b[39;00m \u001b[38;5;129;01mnot\u001b[39;00m \u001b[38;5;28;01mNone\u001b[39;00m:\n\u001b[0;32m    949\u001b[0m   \u001b[38;5;66;03m# Release the lock early so that multiple threads can perform the call\u001b[39;00m\n\u001b[0;32m    950\u001b[0m   \u001b[38;5;66;03m# in parallel.\u001b[39;00m\n\u001b[0;32m    951\u001b[0m   \u001b[38;5;28mself\u001b[39m\u001b[38;5;241m.\u001b[39m_lock\u001b[38;5;241m.\u001b[39mrelease()\n",
      "File \u001b[1;32m~\\anaconda3\\envs\\tensorflow_gpu_2022_07\\lib\\site-packages\\tensorflow\\python\\eager\\function.py:2453\u001b[0m, in \u001b[0;36mFunction.__call__\u001b[1;34m(self, *args, **kwargs)\u001b[0m\n\u001b[0;32m   2450\u001b[0m \u001b[38;5;28;01mwith\u001b[39;00m \u001b[38;5;28mself\u001b[39m\u001b[38;5;241m.\u001b[39m_lock:\n\u001b[0;32m   2451\u001b[0m   (graph_function,\n\u001b[0;32m   2452\u001b[0m    filtered_flat_args) \u001b[38;5;241m=\u001b[39m \u001b[38;5;28mself\u001b[39m\u001b[38;5;241m.\u001b[39m_maybe_define_function(args, kwargs)\n\u001b[1;32m-> 2453\u001b[0m \u001b[38;5;28;01mreturn\u001b[39;00m \u001b[43mgraph_function\u001b[49m\u001b[38;5;241;43m.\u001b[39;49m\u001b[43m_call_flat\u001b[49m\u001b[43m(\u001b[49m\n\u001b[0;32m   2454\u001b[0m \u001b[43m    \u001b[49m\u001b[43mfiltered_flat_args\u001b[49m\u001b[43m,\u001b[49m\u001b[43m \u001b[49m\u001b[43mcaptured_inputs\u001b[49m\u001b[38;5;241;43m=\u001b[39;49m\u001b[43mgraph_function\u001b[49m\u001b[38;5;241;43m.\u001b[39;49m\u001b[43mcaptured_inputs\u001b[49m\u001b[43m)\u001b[49m\n",
      "File \u001b[1;32m~\\anaconda3\\envs\\tensorflow_gpu_2022_07\\lib\\site-packages\\tensorflow\\python\\eager\\function.py:1860\u001b[0m, in \u001b[0;36mConcreteFunction._call_flat\u001b[1;34m(self, args, captured_inputs, cancellation_manager)\u001b[0m\n\u001b[0;32m   1856\u001b[0m possible_gradient_type \u001b[38;5;241m=\u001b[39m gradients_util\u001b[38;5;241m.\u001b[39mPossibleTapeGradientTypes(args)\n\u001b[0;32m   1857\u001b[0m \u001b[38;5;28;01mif\u001b[39;00m (possible_gradient_type \u001b[38;5;241m==\u001b[39m gradients_util\u001b[38;5;241m.\u001b[39mPOSSIBLE_GRADIENT_TYPES_NONE\n\u001b[0;32m   1858\u001b[0m     \u001b[38;5;129;01mand\u001b[39;00m executing_eagerly):\n\u001b[0;32m   1859\u001b[0m   \u001b[38;5;66;03m# No tape is watching; skip to running the function.\u001b[39;00m\n\u001b[1;32m-> 1860\u001b[0m   \u001b[38;5;28;01mreturn\u001b[39;00m \u001b[38;5;28mself\u001b[39m\u001b[38;5;241m.\u001b[39m_build_call_outputs(\u001b[38;5;28;43mself\u001b[39;49m\u001b[38;5;241;43m.\u001b[39;49m\u001b[43m_inference_function\u001b[49m\u001b[38;5;241;43m.\u001b[39;49m\u001b[43mcall\u001b[49m\u001b[43m(\u001b[49m\n\u001b[0;32m   1861\u001b[0m \u001b[43m      \u001b[49m\u001b[43mctx\u001b[49m\u001b[43m,\u001b[49m\u001b[43m \u001b[49m\u001b[43margs\u001b[49m\u001b[43m,\u001b[49m\u001b[43m \u001b[49m\u001b[43mcancellation_manager\u001b[49m\u001b[38;5;241;43m=\u001b[39;49m\u001b[43mcancellation_manager\u001b[49m\u001b[43m)\u001b[49m)\n\u001b[0;32m   1862\u001b[0m forward_backward \u001b[38;5;241m=\u001b[39m \u001b[38;5;28mself\u001b[39m\u001b[38;5;241m.\u001b[39m_select_forward_and_backward_functions(\n\u001b[0;32m   1863\u001b[0m     args,\n\u001b[0;32m   1864\u001b[0m     possible_gradient_type,\n\u001b[0;32m   1865\u001b[0m     executing_eagerly)\n\u001b[0;32m   1866\u001b[0m forward_function, args_with_tangents \u001b[38;5;241m=\u001b[39m forward_backward\u001b[38;5;241m.\u001b[39mforward()\n",
      "File \u001b[1;32m~\\anaconda3\\envs\\tensorflow_gpu_2022_07\\lib\\site-packages\\tensorflow\\python\\eager\\function.py:497\u001b[0m, in \u001b[0;36m_EagerDefinedFunction.call\u001b[1;34m(self, ctx, args, cancellation_manager)\u001b[0m\n\u001b[0;32m    495\u001b[0m \u001b[38;5;28;01mwith\u001b[39;00m _InterpolateFunctionError(\u001b[38;5;28mself\u001b[39m):\n\u001b[0;32m    496\u001b[0m   \u001b[38;5;28;01mif\u001b[39;00m cancellation_manager \u001b[38;5;129;01mis\u001b[39;00m \u001b[38;5;28;01mNone\u001b[39;00m:\n\u001b[1;32m--> 497\u001b[0m     outputs \u001b[38;5;241m=\u001b[39m \u001b[43mexecute\u001b[49m\u001b[38;5;241;43m.\u001b[39;49m\u001b[43mexecute\u001b[49m\u001b[43m(\u001b[49m\n\u001b[0;32m    498\u001b[0m \u001b[43m        \u001b[49m\u001b[38;5;28;43mstr\u001b[39;49m\u001b[43m(\u001b[49m\u001b[38;5;28;43mself\u001b[39;49m\u001b[38;5;241;43m.\u001b[39;49m\u001b[43msignature\u001b[49m\u001b[38;5;241;43m.\u001b[39;49m\u001b[43mname\u001b[49m\u001b[43m)\u001b[49m\u001b[43m,\u001b[49m\n\u001b[0;32m    499\u001b[0m \u001b[43m        \u001b[49m\u001b[43mnum_outputs\u001b[49m\u001b[38;5;241;43m=\u001b[39;49m\u001b[38;5;28;43mself\u001b[39;49m\u001b[38;5;241;43m.\u001b[39;49m\u001b[43m_num_outputs\u001b[49m\u001b[43m,\u001b[49m\n\u001b[0;32m    500\u001b[0m \u001b[43m        \u001b[49m\u001b[43minputs\u001b[49m\u001b[38;5;241;43m=\u001b[39;49m\u001b[43margs\u001b[49m\u001b[43m,\u001b[49m\n\u001b[0;32m    501\u001b[0m \u001b[43m        \u001b[49m\u001b[43mattrs\u001b[49m\u001b[38;5;241;43m=\u001b[39;49m\u001b[43mattrs\u001b[49m\u001b[43m,\u001b[49m\n\u001b[0;32m    502\u001b[0m \u001b[43m        \u001b[49m\u001b[43mctx\u001b[49m\u001b[38;5;241;43m=\u001b[39;49m\u001b[43mctx\u001b[49m\u001b[43m)\u001b[49m\n\u001b[0;32m    503\u001b[0m   \u001b[38;5;28;01melse\u001b[39;00m:\n\u001b[0;32m    504\u001b[0m     outputs \u001b[38;5;241m=\u001b[39m execute\u001b[38;5;241m.\u001b[39mexecute_with_cancellation(\n\u001b[0;32m    505\u001b[0m         \u001b[38;5;28mstr\u001b[39m(\u001b[38;5;28mself\u001b[39m\u001b[38;5;241m.\u001b[39msignature\u001b[38;5;241m.\u001b[39mname),\n\u001b[0;32m    506\u001b[0m         num_outputs\u001b[38;5;241m=\u001b[39m\u001b[38;5;28mself\u001b[39m\u001b[38;5;241m.\u001b[39m_num_outputs,\n\u001b[1;32m   (...)\u001b[0m\n\u001b[0;32m    509\u001b[0m         ctx\u001b[38;5;241m=\u001b[39mctx,\n\u001b[0;32m    510\u001b[0m         cancellation_manager\u001b[38;5;241m=\u001b[39mcancellation_manager)\n",
      "File \u001b[1;32m~\\anaconda3\\envs\\tensorflow_gpu_2022_07\\lib\\site-packages\\tensorflow\\python\\eager\\execute.py:54\u001b[0m, in \u001b[0;36mquick_execute\u001b[1;34m(op_name, num_outputs, inputs, attrs, ctx, name)\u001b[0m\n\u001b[0;32m     52\u001b[0m \u001b[38;5;28;01mtry\u001b[39;00m:\n\u001b[0;32m     53\u001b[0m   ctx\u001b[38;5;241m.\u001b[39mensure_initialized()\n\u001b[1;32m---> 54\u001b[0m   tensors \u001b[38;5;241m=\u001b[39m \u001b[43mpywrap_tfe\u001b[49m\u001b[38;5;241;43m.\u001b[39;49m\u001b[43mTFE_Py_Execute\u001b[49m\u001b[43m(\u001b[49m\u001b[43mctx\u001b[49m\u001b[38;5;241;43m.\u001b[39;49m\u001b[43m_handle\u001b[49m\u001b[43m,\u001b[49m\u001b[43m \u001b[49m\u001b[43mdevice_name\u001b[49m\u001b[43m,\u001b[49m\u001b[43m \u001b[49m\u001b[43mop_name\u001b[49m\u001b[43m,\u001b[49m\n\u001b[0;32m     55\u001b[0m \u001b[43m                                      \u001b[49m\u001b[43minputs\u001b[49m\u001b[43m,\u001b[49m\u001b[43m \u001b[49m\u001b[43mattrs\u001b[49m\u001b[43m,\u001b[49m\u001b[43m \u001b[49m\u001b[43mnum_outputs\u001b[49m\u001b[43m)\u001b[49m\n\u001b[0;32m     56\u001b[0m \u001b[38;5;28;01mexcept\u001b[39;00m core\u001b[38;5;241m.\u001b[39m_NotOkStatusException \u001b[38;5;28;01mas\u001b[39;00m e:\n\u001b[0;32m     57\u001b[0m   \u001b[38;5;28;01mif\u001b[39;00m name \u001b[38;5;129;01mis\u001b[39;00m \u001b[38;5;129;01mnot\u001b[39;00m \u001b[38;5;28;01mNone\u001b[39;00m:\n",
      "\u001b[1;31mKeyboardInterrupt\u001b[0m: "
     ]
    }
   ],
   "source": [
    "model_2.fit(tf_train_generator, \n",
    "            validation_data = tf_val_generator,  \n",
    "            epochs = 100, batch_size = 16,\n",
    "           #callbacks=[my_callback()]\n",
    "           )"
   ]
  },
  {
   "cell_type": "markdown",
   "id": "82ad798d",
   "metadata": {},
   "source": [
    "## Evaluating"
   ]
  },
  {
   "cell_type": "code",
   "execution_count": 1764,
   "id": "36104f40",
   "metadata": {},
   "outputs": [
    {
     "name": "stdout",
     "output_type": "stream",
     "text": [
      "60/60 [==============================] - 4s 60ms/step - loss: 0.0126\n"
     ]
    },
    {
     "data": {
      "text/plain": [
       "0.01257795188575983"
      ]
     },
     "execution_count": 1764,
     "metadata": {},
     "output_type": "execute_result"
    }
   ],
   "source": [
    "model_2.evaluate(tf_val_generator)"
   ]
  },
  {
   "cell_type": "code",
   "execution_count": 183,
   "id": "c15f35b2",
   "metadata": {},
   "outputs": [],
   "source": [
    "import pnp_manager\n",
    "from pnp_manager import FramesGeneratorManager "
   ]
  },
  {
   "cell_type": "code",
   "execution_count": 372,
   "id": "57f1a8dd",
   "metadata": {},
   "outputs": [],
   "source": [
    "frames_gen = FramesGeneratorManager(dir_path = frames_path,\n",
    "                                   video_number = \"0006\",\n",
    "                                   target_resolution = [96,96],\n",
    "                                   skip_frames = 6)"
   ]
  },
  {
   "cell_type": "code",
   "execution_count": 297,
   "id": "9ee8a2d7",
   "metadata": {},
   "outputs": [],
   "source": [
    "def put_keypoints_on_frame(frame,scale):\n",
    "    mask = model_2.predict(np.array([frame/255.]),verbose=0)[0]\n",
    "    blobs_centers = pnp_manager.get_all_blobs_centers(mask)\n",
    "    frame = cv2.resize(frame,(frame.shape[0]*scale, frame.shape[1]*scale))\n",
    "    for center in blobs_centers:\n",
    "        x = int(center[0])*scale\n",
    "        y = int(center[1])*scale\n",
    "        color = (0,255,0)\n",
    "        frame = cv2.circle(frame,(x,y),2*scale,color, -1)\n",
    "    return frame"
   ]
  },
  {
   "cell_type": "code",
   "execution_count": 298,
   "id": "d34176a8",
   "metadata": {},
   "outputs": [],
   "source": [
    "for i in range(500):\n",
    "    frame = frames_gen.get_next_frame()\n",
    "    frame = put_keypoints_on_frame(frame,4)\n",
    "    \n",
    "    cv2.imshow(\"window1\", frame)\n",
    "    cv2.waitKey(1)\n",
    "cv2.destroyAllWindows()"
   ]
  },
  {
   "cell_type": "code",
   "execution_count": null,
   "id": "04bd647f",
   "metadata": {},
   "outputs": [],
   "source": [
    "cv2.destroyAllWindows()"
   ]
  },
  {
   "cell_type": "code",
   "execution_count": null,
   "id": "2637c95b",
   "metadata": {},
   "outputs": [],
   "source": []
  },
  {
   "cell_type": "code",
   "execution_count": null,
   "id": "9695e600",
   "metadata": {},
   "outputs": [],
   "source": [
    "######### PNP ######### PNP ######### PNP ######### PNP ######### PNP ######### PNP\n",
    "######### PNP ######### PNP ######### PNP ######### PNP ######### PNP ######### PNP\n",
    "######### PNP ######### PNP ######### PNP ######### PNP ######### PNP ######### PNP"
   ]
  },
  {
   "cell_type": "code",
   "execution_count": 360,
   "id": "413d0ca0",
   "metadata": {},
   "outputs": [],
   "source": []
  },
  {
   "cell_type": "code",
   "execution_count": 374,
   "id": "62b591fc",
   "metadata": {},
   "outputs": [],
   "source": [
    "points_3d = [\n",
    "             (0.0, 0.0,0.0),\n",
    "             (0.0, 0.0,0.1),\n",
    "             (0.0, 0.1,0.0),\n",
    "             (0.1, 0.0,0.0),\n",
    "            ]"
   ]
  },
  {
   "cell_type": "code",
   "execution_count": 376,
   "id": "0755e18f",
   "metadata": {},
   "outputs": [],
   "source": [
    "solverPNP = pnp_manager.SolverPNP((96,96))\n",
    "\n",
    "for i in range (50):\n",
    "    frame = frames_gen.get_next_frame()\n",
    "    mask = model_2.predict(np.array([frame/255.]),verbose=0)[0]\n",
    "    blobs_centers = pnp_manager.get_all_blobs_centers(mask)\n",
    "    points_2d = solverPNP.projectPoints(blobs_centers, points_3d)\n",
    "    scale = 4\n",
    "    frame = cv2.resize(frame,(96*scale,96*scale))\n",
    "    color = (255,0,0)\n",
    "    \n",
    "    for point in points_2d:\n",
    "        x = int(point[0][0])\n",
    "        y = int(point[0][1])\n",
    "        frame = cv2.circle(frame,(x*scale,y*scale),2*scale,color, -1)\n",
    "\n",
    "    cv2.imshow(\"window1\", frame)\n",
    "    cv2.waitKey(1)\n",
    "cv2.destroyAllWindows()"
   ]
  },
  {
   "cell_type": "code",
   "execution_count": null,
   "id": "7e2fee76",
   "metadata": {},
   "outputs": [],
   "source": []
  }
 ],
 "metadata": {
  "kernelspec": {
   "display_name": "tensorflow_gpu_2022_07",
   "language": "python",
   "name": "tensorflow_gpu_2022_07"
  },
  "language_info": {
   "codemirror_mode": {
    "name": "ipython",
    "version": 3
   },
   "file_extension": ".py",
   "mimetype": "text/x-python",
   "name": "python",
   "nbconvert_exporter": "python",
   "pygments_lexer": "ipython3",
   "version": "3.10.4"
  }
 },
 "nbformat": 4,
 "nbformat_minor": 5
}
